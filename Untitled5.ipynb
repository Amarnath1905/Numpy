{
  "nbformat": 4,
  "nbformat_minor": 0,
  "metadata": {
    "colab": {
      "provenance": [],
      "authorship_tag": "ABX9TyO0OiIoxNCF7lYq0kTLNjDj",
      "include_colab_link": true
    },
    "kernelspec": {
      "name": "python3",
      "display_name": "Python 3"
    },
    "language_info": {
      "name": "python"
    }
  },
  "cells": [
    {
      "cell_type": "markdown",
      "metadata": {
        "id": "view-in-github",
        "colab_type": "text"
      },
      "source": [
        "<a href=\"https://colab.research.google.com/github/Amarnath1905/Numpy/blob/main/Untitled5.ipynb\" target=\"_parent\"><img src=\"https://colab.research.google.com/assets/colab-badge.svg\" alt=\"Open In Colab\"/></a>"
      ]
    },
    {
      "cell_type": "code",
      "execution_count": 1,
      "metadata": {
        "id": "Mt1MEyhDVsQe"
      },
      "outputs": [],
      "source": [
        "import numpy as np\n",
        "import time"
      ]
    },
    {
      "cell_type": "code",
      "source": [
        "a = [1,2,3,4,5,6,7,8,9,10] * 10000 #Time difference bteween the pyon lists and numpy arrays\n",
        "\n",
        "start =  time.time()\n",
        "for i in range(len(a)):\n",
        "  a[i]=a[i]*2\n",
        "\n",
        "print(\"\\n Time  taken for list:\",time.time() - start)"
      ],
      "metadata": {
        "colab": {
          "base_uri": "https://localhost:8080/"
        },
        "id": "8qn-q_L2Wj7p",
        "outputId": "163d559f-34fb-45d7-b990-258d881a1629"
      },
      "execution_count": 3,
      "outputs": [
        {
          "output_type": "stream",
          "name": "stdout",
          "text": [
            "\n",
            " Time  taken for list: 0.013341426849365234\n"
          ]
        }
      ]
    },
    {
      "cell_type": "code",
      "source": [
        "a = [1,2,3,4,5,6,7,8,9,10]*100000\n",
        "b=np.array(a)\n",
        "start = time.time()\n",
        "new_b=b*2\n",
        "print(\"\\ntime taken for numpy array:\",time.time() - start)\n"
      ],
      "metadata": {
        "colab": {
          "base_uri": "https://localhost:8080/"
        },
        "id": "2QX0bXLMXt4F",
        "outputId": "e00a7168-45f7-4696-c0a8-654d46dde317"
      },
      "execution_count": 4,
      "outputs": [
        {
          "output_type": "stream",
          "name": "stdout",
          "text": [
            "\n",
            "time taken for numpy array: 0.0043087005615234375\n"
          ]
        }
      ]
    },
    {
      "cell_type": "code",
      "source": [],
      "metadata": {
        "id": "wL36PHq3XgDj"
      },
      "execution_count": null,
      "outputs": []
    }
  ]
}